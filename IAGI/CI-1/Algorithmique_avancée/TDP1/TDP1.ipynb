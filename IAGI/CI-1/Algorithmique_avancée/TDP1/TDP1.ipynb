{
 "cells": [
  {
   "cell_type": "markdown",
   "metadata": {},
   "source": [
    "# Exercice 6\n",
    "\n",
    "a. Une matrice antisymétrique est une matrice carrée opposée à sa transposée, c'est-à-dire \\( A^\\top = -A \\).\n",
    "\n",
    "Exemples :\n",
    "\n",
    "\n",
    "\\begin{pmatrix}\n",
    "0 & 4 \\\\\n",
    "-4 & 0\n",
    "\\end{pmatrix}\n",
    "\n",
    "\n",
    "ou\n",
    "\n",
    "\n",
    "\\begin{pmatrix}\n",
    "0 & 9 & -5 \\\\\n",
    "-9 & 0 & 2 \\\\\n",
    "5 & -2 & 0\n",
    "\\end{pmatrix}\n",
    "\n",
    "- Écrire une fonction `ANTISYM` qui prend en paramètre une matrice carrée `M` de taille \\( n \\times n \\) et retourne 1 si la matrice `M` est antisymétrique et 0 sinon. (Faire le parcours nécessaire élément par élément de la matrice)\n",
    "- Proposer une solution plus simple en utilisant les fonctionnalités du langage Python."
   ]
  },
  {
   "cell_type": "code",
   "execution_count": null,
   "metadata": {},
   "outputs": [],
   "source": [
    "import numpy as np\n",
    "def antisym(m,n):\n",
    "    for i in range(n):\n",
    "        for j in range(n):\n",
    "            if m[i][j] != -m[j][i]:\n",
    "                return 0\n",
    "    return 1\n",
    "\n",
    "def antisym_simpler(m,n):\n",
    "    m = np.array(m)\n",
    "    return int(np.all(m == -m.T)) # T is transpose of m, np.all does the comparison elementwise"
   ]
  },
  {
   "cell_type": "markdown",
   "metadata": {},
   "source": [
    "```markdown\n",
    "b. Une matrice diagonale est une matrice carrée dont les coefficients en dehors de la diagonale principale sont nuls.\n",
    "Écrire une fonction qui retourne si une matrice carrée `M` est diagonale ou pas.\n",
    "```"
   ]
  },
  {
   "cell_type": "code",
   "execution_count": null,
   "metadata": {},
   "outputs": [],
   "source": [
    "# estdiagonale is a function that checks whether a matrix is diagonal or not, it returns False if the matrix is not diagonal, and True if it is diagonal\n",
    "def estdiagonale(m):\n",
    "    for i in range(len(m)):\n",
    "        for j in range(len(m)):\n",
    "            if i != j and m[i][j] != 0:\n",
    "                return False\n",
    "    return True"
   ]
  },
  {
   "cell_type": "markdown",
   "metadata": {},
   "source": [
    "\n",
    "Une matrice de Hankel est une matrice carrée dont les valeurs le long des diagonales ascendantes de gauche à droite sont constantes.\n",
    "Exemple :\n",
    "\n",
    "\\begin{pmatrix}\n",
    "6 & 18 & 4 & 5 & 125 \\\\\n",
    "2 & 6 & 18 & 4 & 5 \\\\\n",
    "1 & 2 & 6 & 18 & 4 \\\\\n",
    "7 & 1 & 2 & 6 & 18 \\\\\n",
    "3 & 7 & 1 & 2 & 6 \\\\\n",
    "\\end{pmatrix}\n",
    "\n",
    "Écrire une fonction `HANKEL` qui retourne 1 si une matrice carrée `M` de taille \\( n \\times n \\) est de Hankel, sinon retourne 0.\n"
   ]
  },
  {
   "cell_type": "code",
   "execution_count": 9,
   "metadata": {},
   "outputs": [
    {
     "name": "stdout",
     "output_type": "stream",
     "text": [
      "0\n"
     ]
    }
   ],
   "source": [
    "import numpy as  np\n",
    "def hankel(m,n):\n",
    "    m = np.flip(m, 0)\n",
    "    d = np.diagonal(m)\n",
    "    for i in range(2-n,n-1):\n",
    "      if len(np.unique(np.diag(m,i))) != 1:\n",
    "            return 0\n",
    "    return 1\n",
    "# test\n",
    "def main():\n",
    "\n",
    "    m = [[0,1,2,3],\n",
    "         [1,2,3,4],\n",
    "         [2,3,4,4],\n",
    "         [3,4,4,0]]\n",
    "    n = 4\n",
    "    print(hankel(m,n))\n",
    "\n",
    "main()   \n",
    "    "
   ]
  },
  {
   "cell_type": "markdown",
   "metadata": {},
   "source": [
    "\n",
    "# Exercice 5: \n",
    "\n",
    "Le triangle de Pascal est une matrice triangulaire inférieure telle que :\n",
    "\n",
    "- contient 1 sur la diagonale,\n",
    "- contient 1 sur le premier élément de chaque ligne,\n",
    "- les autres éléments sont construits comme indiqué sur l’exemple ci-dessous :\n",
    "\n",
    "Exemple du TRIANGLE DE PASCAL de degré 5 :\n",
    "\n",
    "Écrire une fonction `TrPascal` qui prend en paramètre un entier `N` et une matrice triangulaire inférieure `MP` de dimension `N+1` et retourne 1 si `MP` représente un TRIANGLE DE PASCAL de degré `N` et 0 sinon.\n"
   ]
  },
  {
   "cell_type": "code",
   "execution_count": 11,
   "metadata": {},
   "outputs": [
    {
     "name": "stdout",
     "output_type": "stream",
     "text": [
      "1\n",
      "1\n"
     ]
    }
   ],
   "source": [
    "import numpy as np\n",
    "def TrPascal(N, MP):\n",
    "    for i in range(N+1):\n",
    "        if MP[i][i] != 1 and MP[i][0] != 1:\n",
    "            return 0\n",
    "        for j in range(1, i):\n",
    "            if MP[i][j] != MP[i-1][j-1] + MP[i-1][j]:\n",
    "                return 0\n",
    "    return 1\n",
    "\n",
    "# utilisation de numpy pour simplifier le code\n",
    "def Trpascal(N,MP):\n",
    "    if np.diag(MP).all() != 1:\n",
    "        return 0\n",
    "    for i in range(1,N+1):\n",
    "        if MP[i][0] != 1:\n",
    "            return 0\n",
    "        for j in range(1,i):\n",
    "            if MP[i][j] != MP[i-1][j-1] + MP[i-1][j]:\n",
    "                return 0\n",
    "    return 1\n",
    "\n",
    "# Example usage\n",
    "N = 5\n",
    "MP = [\n",
    "    [1, 0, 0, 0, 0, 0],\n",
    "    [1, 1, 0, 0, 0, 0],\n",
    "    [1, 2, 1, 0, 0, 0],\n",
    "    [1, 3, 3, 1, 0, 0],\n",
    "    [1, 4, 6, 4, 1, 0],\n",
    "    [1, 5, 10, 10, 5, 1]\n",
    "]\n",
    "\n",
    "print(TrPascal(N, MP))  # 1\n",
    "print(Trpascal(N, MP))  # 1"
   ]
  },
  {
   "cell_type": "markdown",
   "metadata": {},
   "source": [
    "\n",
    "# Exercice 7 :\n",
    "\n",
    "Voici un algorithme qui réalise la multiplication de 2 nombres entiers naturels N et M en n'utilisant que des multiplications/divisions par 2 selon la conception suivante :\n",
    "À chaque étape, N est divisé par 2 (division entière) et M est multiplié par 2.\n",
    "Si N est impair, la valeur de M est ajoutée au futur résultat. Si N est strictement positif, on s’arrête à N = 1.\n",
    "\n",
    "Exemple: 321 * 457\n",
    "\n",
    "| N   | M    | Commentaire                          |\n",
    "|-----|------|--------------------------------------|\n",
    "| 321 | 457  | N est impair donc futur résultat=457 |\n",
    "| 160 | 914  | N est pair donc on n'ajoute pas 914  |\n",
    "| 80  | 1828 | N est pair donc on n'ajoute pas 1828 |\n",
    "| 40  | 3656 | N est pair donc on n'ajoute pas 3656 |\n",
    "| 20  | 7312 | N est pair donc on n'ajoute pas 7312 |\n",
    "| 10  | 14624| N est pair donc on n'ajoute pas 14624|\n",
    "| 5   | 29248| N est impair donc futur résultat = 457 + 29248 = 29705 |\n",
    "| 2   | 58496| N est pair donc on n'ajoute pas 58496|\n",
    "| 1   | 116992| N est impair donc résultat = 29705 + 116992 = 146697 |\n",
    "\n",
    "1. En justifiant votre réponse, calculer le produit N*M en utilisant l’algorithme de multiplication par shifting ci-dessus pour les cas suivants : (une réponse non justifiée est fausse)\n",
    "    - N = 21, M = 5\n",
    "    - N = 107, M = 3\n",
    "    - N = 5, M = 21"
   ]
  },
  {
   "cell_type": "markdown",
   "metadata": {},
   "source": [
    "### Réponse:\n",
    "\n",
    "| N   | M    | Commentaire                          |\n",
    "|-----|------|--------------------------------------|\n",
    "| 21  | 5  | N est impair donc r = 5 |\n",
    "| 10 | 10  | N est pair  |\n",
    "| 5  | 20 | N est impair donc r = 25 |\n",
    "| 2  | 40 | N est pair  |\n",
    "| 1  | 80 | N est impair donc r = 105 |\n"
   ]
  },
  {
   "cell_type": "markdown",
   "metadata": {},
   "source": [
    "| N   | M    | Commentaire                          |\n",
    "|-----|------|--------------------------------------|\n",
    "| 107  | 3  | N est impair donc r = 3 |\n",
    "| 53 | 6  | N est impair r = 9  |\n",
    "| 26  | 12 | N est pair |\n",
    "| 13  | 24 | N est impair r = 33  |\n",
    "| 6  | 48 | N est pair |\n",
    "| 3  | 96 | N est impair donc r = 129 |\n",
    "| 1  | 192 | N est impair donc r = 321 |"
   ]
  },
  {
   "cell_type": "markdown",
   "metadata": {},
   "source": [
    "| N   | M    | Commentaire                          |\n",
    "|-----|------|--------------------------------------|\n",
    "| 5  | 21  | N est impair donc r = 21 |\n",
    "| 2 | 42  | N est pair  |\n",
    "| 1  | 84 | N est impair donc r = 105 |"
   ]
  },
  {
   "cell_type": "markdown",
   "metadata": {},
   "source": [
    "\n",
    "2. Ecrire une fonction itérative `prod_shift_iter` qui prend en paramètres deux entiers, respectivement, N et M et retourne leur produit. La fonction doit prendre en considération qu’un des deux paramètres peut être nul.\n",
    "\n",
    "N.B. Attention aux initialisations dans la fonction.\n"
   ]
  },
  {
   "cell_type": "code",
   "execution_count": 12,
   "metadata": {},
   "outputs": [
    {
     "name": "stdout",
     "output_type": "stream",
     "text": [
      "105\n",
      "321\n",
      "105\n"
     ]
    }
   ],
   "source": [
    "def prod_shift_iter(N, M):\n",
    "    result = 0\n",
    "    while N > 0:\n",
    "        if N % 2 == 1:  # If N is odd\n",
    "            result += M\n",
    "        N = N // 2  # Divide N by 2\n",
    "        M = M * 2  # Multiply M by 2\n",
    "    return result\n",
    "\n",
    "# Example usage\n",
    "N = 21\n",
    "M = 5\n",
    "print(prod_shift_iter(N, M))  # 105\n",
    "\n",
    "N = 107\n",
    "M = 3\n",
    "print(prod_shift_iter(N, M))  # 321\n",
    "\n",
    "N = 5\n",
    "M = 21\n",
    "print(prod_shift_iter(N, M))  # 105"
   ]
  },
  {
   "cell_type": "markdown",
   "metadata": {},
   "source": [
    "3. Quelle est la complexité de cette solution (nombre de divisions) ? Justifier votre réponse.\n",
    "\n",
    "La complexité de cette solution est \\(O(\\log N)\\). \n",
    "\n",
    "Justification : \n",
    "À chaque itération de la boucle, la valeur de \\(N\\) est divisée par 2 (division entière). Le nombre de fois que l'on peut diviser \\(N\\) par 2 avant qu'il ne devienne 0 est proportionnel au logarithme en base 2 de \\(N\\). Par conséquent, le nombre total d'itérations (ou divisions) est de l'ordre de \\(log_2 N\\), ce qui donne une complexité logarithmique \\(O(log N)\\)."
   ]
  },
  {
   "cell_type": "markdown",
   "metadata": {},
   "source": [
    "\n",
    "4. Ecrire une fonction `prod_shift_rec` la version récursive de la fonction `prod_shift_iter`.\n"
   ]
  },
  {
   "cell_type": "code",
   "execution_count": 13,
   "metadata": {},
   "outputs": [
    {
     "name": "stdout",
     "output_type": "stream",
     "text": [
      "105\n",
      "321\n",
      "105\n"
     ]
    }
   ],
   "source": [
    "def prod_shift_rec(N, M):\n",
    "    if N == 0:\n",
    "        return 0\n",
    "    if N % 2 == 1:  # If N is odd\n",
    "        return M + prod_shift_rec(N // 2, M * 2)\n",
    "    else:\n",
    "        return prod_shift_rec(N // 2, M * 2)\n",
    "\n",
    "# Example usage\n",
    "N = 21\n",
    "M = 5\n",
    "print(prod_shift_rec(N, M))  # 105\n",
    "\n",
    "N = 107\n",
    "M = 3\n",
    "print(prod_shift_rec(N, M))  # 321\n",
    "\n",
    "N = 5\n",
    "M = 21\n",
    "print(prod_shift_rec(N, M))  # 105"
   ]
  },
  {
   "cell_type": "markdown",
   "metadata": {},
   "source": [
    "\n",
    "5. Ecrire un programme qui lit deux entiers positifs N et M puis, pour calculer leur produit, fait appel à la fonction itérative `prod_shift_iter` de sorte à ce que le nombre d’itérations soit minimal.\n"
   ]
  },
  {
   "cell_type": "code",
   "execution_count": 17,
   "metadata": {},
   "outputs": [
    {
     "name": "stdout",
     "output_type": "stream",
     "text": [
      "The product of 6 and 45 is: 270\n"
     ]
    }
   ],
   "source": [
    "# Read two positive integers N and M\n",
    "N = int(input(\"Enter the first positive integer N: \"))\n",
    "M = int(input(\"Enter the second positive integer M: \"))\n",
    "\n",
    "# pour que le nombre d'itérations soit minimal, il faut faire la compairaison entre les deux nombres et mettre le plus petit en premier, ceci peurt \n",
    "# être conclut d'une remarque d'après la première question quand on a donné au début à N = 21 et M = 5, puis N = 5 et M = 21\n",
    "# on a remarqué que le nombre d'itérations est plus petit dans le deuxième cas\n",
    "\n",
    "if N > M:\n",
    "    N, M = M, N\n",
    "    product = prod_shift_iter(N, M)\n",
    "\n",
    "# Calculate the product\n",
    "product = prod_shift_iter(N, M)\n",
    "\n",
    "# Print the result\n",
    "print(f\"The product of {N} and {M} is: {product}\")"
   ]
  },
  {
   "cell_type": "markdown",
   "metadata": {},
   "source": [
    "# Exercice 8:\n",
    "\n",
    "On considère qu’un texte est une chaîne de caractères suffisamment longue. Soient les suppositions suivantes:\n",
    "- Un texte peut être vide.\n",
    "- Si un texte n’est pas vide, il est composé d’une ou plusieurs phrases.\n",
    "- Une phrase commence par une lettre ou un chiffre et se termine par un point. Il n’y a pas d’espace avant le point.\n",
    "- Les phrases d’un texte sont séparées par un espace.\n",
    "- Les mots d’une phrase sont séparés par un espace.\n",
    "\n",
    "a. Écrire une fonction `NPT` qui retourne le nombre de phrases d’un texte."
   ]
  },
  {
   "cell_type": "code",
   "execution_count": 29,
   "metadata": {},
   "outputs": [
    {
     "name": "stdout",
     "output_type": "stream",
     "text": [
      "3\n",
      "0\n",
      "0\n"
     ]
    }
   ],
   "source": [
    "def NPT(text):\n",
    "    if not text or text.strip() == \".\" :\n",
    "        return 0\n",
    "    return text.strip(\" \").count('.')  # Each sentence ends with a period\n",
    "\n",
    "# Example usage\n",
    "text = \"This is a sentence. This is another sentence. And yet another one.\"\n",
    "print(NPT(text))  # 3\n",
    "text = \" . \"\n",
    "print(NPT(text))  # 0\n",
    "text = \"\"\n",
    "print(NPT(text))  # 0"
   ]
  },
  {
   "cell_type": "markdown",
   "metadata": {},
   "source": [
    "\n",
    "b. Écrire une fonction `NMT` qui retourne le nombre de mots d’un texte.\n"
   ]
  },
  {
   "cell_type": "code",
   "execution_count": 30,
   "metadata": {},
   "outputs": [
    {
     "name": "stdout",
     "output_type": "stream",
     "text": [
      "12\n",
      "0\n",
      "0\n"
     ]
    }
   ],
   "source": [
    "def NMT(text):\n",
    "    if not text or text.strip() == \".\":\n",
    "        return 0\n",
    "    return len(text.split())\n",
    "\n",
    "# Example usage\n",
    "text = \"This is a sentence. This is another sentence. And yet another one.\"\n",
    "print(NMT(text))  # 12\n",
    "text = \" .  \"\n",
    "print(NMT(text))\n",
    "text = \"\"\n",
    "print(NMT(text))  # 0"
   ]
  },
  {
   "cell_type": "markdown",
   "metadata": {},
   "source": [
    "b. Écrire la fonction `Txt_Tab` qui met les phrases du texte `TX` dans `TCH[]`, un tableau de chaînes de caractères. Les chaînes de caractères, éléments du tableau `TCH[]`, n’ont pas nécessairement la même longueur. La fonction `Txt_Tab` doit avoir l’entête suivant:\n",
    "\n",
    "\n",
    "#### Fonction `Txt_Tab(TX : chaine de caractères, TCH[] : chaines de caractères) : vide`\n",
    "\n",
    "**Exemple 3**: \n",
    "Si `TX = \"Aujourd’hui c’est l’examen d’Algorithmique. Bonne chance. Chacun pour soi et Dieu pour tous.\"` alors il faut que le tableau `TCH` soit tel que :\n",
    "- `TCH[0] = \"Aujourd’hui c’est l’examen d’Algorithmique.\"`\n",
    "- `TCH[1] = \"Bonne chance.\"`\n",
    "- `TCH[2] = \"Chacun pour soi et Dieu pour tous.\"`\n",
    "\n",
    "**Indication**: On accepte l’affectation d’une chaîne de caractères à une autre, i.e `ch1 <- ch2`."
   ]
  },
  {
   "cell_type": "code",
   "execution_count": 31,
   "metadata": {},
   "outputs": [
    {
     "name": "stdout",
     "output_type": "stream",
     "text": [
      "['Aujourd’hui c’est l’examen d’Algorithmique.', 'Bonne chance.', 'Chacun pour soi et Dieu pour tous.']\n"
     ]
    }
   ],
   "source": [
    "def Txt_Tab(TX, TCH):\n",
    "    # Split the text by periods to get the sentences\n",
    "    sentences = TX.split('.')\n",
    "    # Remove any leading/trailing whitespace from each sentence and filter out empty sentences\n",
    "    sentences = [sentence.strip() + '.' for sentence in sentences if sentence.strip()]\n",
    "    # Assign the sentences to the TCH list\n",
    "    TCH.extend(sentences)\n",
    "\n",
    "# Example usage\n",
    "TX = \"Aujourd’hui c’est l’examen d’Algorithmique. Bonne chance. Chacun pour soi et Dieu pour tous.\"\n",
    "TCH = []\n",
    "Txt_Tab(TX, TCH)\n",
    "print(TCH)\n"
   ]
  },
  {
   "cell_type": "markdown",
   "metadata": {},
   "source": [
    "d. En déduire une fonction `Inv_Txt` qui inverse l’ordre des phrases d’un texte.\n",
    "\n",
    "**Exemple 4**: le texte `TX` dans l’exemple 3 deviendra `TX = \"Chacun pour soi et Dieu pour tous. Bonne chance. Aujourd’hui c’est l’examen d’Algorithmique.\"`"
   ]
  },
  {
   "cell_type": "code",
   "execution_count": 32,
   "metadata": {},
   "outputs": [
    {
     "name": "stdout",
     "output_type": "stream",
     "text": [
      "Chacun pour soi et Dieu pour tous. Bonne chance. Aujourd’hui c’est l’examen d’Algorithmique.\n"
     ]
    }
   ],
   "source": [
    "def Inv_Txt(TX):\n",
    "    TCH = []\n",
    "    Txt_Tab(TX, TCH)\n",
    "    TCH.reverse()\n",
    "    return ' '.join(TCH)\n",
    "\n",
    "# Example usage\n",
    "TX = \"Aujourd’hui c’est l’examen d’Algorithmique. Bonne chance. Chacun pour soi et Dieu pour tous.\"\n",
    "inverted_TX = Inv_Txt(TX)\n",
    "print(inverted_TX)"
   ]
  }
 ],
 "metadata": {
  "kernelspec": {
   "display_name": "base",
   "language": "python",
   "name": "python3"
  },
  "language_info": {
   "codemirror_mode": {
    "name": "ipython",
    "version": 3
   },
   "file_extension": ".py",
   "mimetype": "text/x-python",
   "name": "python",
   "nbconvert_exporter": "python",
   "pygments_lexer": "ipython3",
   "version": "3.12.7"
  }
 },
 "nbformat": 4,
 "nbformat_minor": 2
}
