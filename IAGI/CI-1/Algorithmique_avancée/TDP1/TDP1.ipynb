{
 "cells": [
  {
   "cell_type": "markdown",
   "metadata": {},
   "source": [
    "# Exercice 6\n",
    "\n",
    "a. Une matrice antisymétrique est une matrice carrée opposée à sa transposée, c'est-à-dire \\( A^\\top = -A \\).\n",
    "\n",
    "Exemples :\n",
    "\n",
    "\n",
    "\\begin{pmatrix}\n",
    "0 & 4 \\\\\n",
    "-4 & 0\n",
    "\\end{pmatrix}\n",
    "\n",
    "\n",
    "ou\n",
    "\n",
    "\n",
    "\\begin{pmatrix}\n",
    "0 & 9 & -5 \\\\\n",
    "-9 & 0 & 2 \\\\\n",
    "5 & -2 & 0\n",
    "\\end{pmatrix}\n",
    "\n",
    "- Écrire une fonction `ANTISYM` qui prend en paramètre une matrice carrée `M` de taille \\( n \\times n \\) et retourne 1 si la matrice `M` est antisymétrique et 0 sinon. (Faire le parcours nécessaire élément par élément de la matrice)\n",
    "- Proposer une solution plus simple en utilisant les fonctionnalités du langage Python."
   ]
  },
  {
   "cell_type": "code",
   "execution_count": null,
   "metadata": {},
   "outputs": [],
   "source": [
    "import numpy as np\n",
    "def antisym(m,n):\n",
    "    for i in range(n):\n",
    "        for j in range(n):\n",
    "            if m[i][j] != -m[j][i]:\n",
    "                return 0\n",
    "    return 1\n",
    "\n",
    "def antisym_simpler(m,n):\n",
    "    m = np.array(m)\n",
    "    return int(np.all(m == -m.T)) # T is transpose of m, np.all does the comparison elementwise"
   ]
  },
  {
   "cell_type": "markdown",
   "metadata": {},
   "source": [
    "```markdown\n",
    "b. Une matrice diagonale est une matrice carrée dont les coefficients en dehors de la diagonale principale sont nuls.\n",
    "Écrire une fonction qui retourne si une matrice carrée `M` est diagonale ou pas.\n",
    "```"
   ]
  },
  {
   "cell_type": "code",
   "execution_count": null,
   "metadata": {},
   "outputs": [],
   "source": [
    "# estdiagonale is a function that checks whether a matrix is diagonal or not, it returns False if the matrix is not diagonal, and True if it is diagonal\n",
    "def estdiagonale(m):\n",
    "    for i in range(len(m)):\n",
    "        for j in range(len(m)):\n",
    "            if i != j and m[i][j] != 0:\n",
    "                return False\n",
    "    return True"
   ]
  },
  {
   "cell_type": "markdown",
   "metadata": {},
   "source": [
    "\n",
    "Une matrice de Hankel est une matrice carrée dont les valeurs le long des diagonales ascendantes de gauche à droite sont constantes.\n",
    "Exemple :\n",
    "\n",
    "\\begin{pmatrix}\n",
    "6 & 18 & 4 & 5 & 125 \\\\\n",
    "2 & 6 & 18 & 4 & 5 \\\\\n",
    "1 & 2 & 6 & 18 & 4 \\\\\n",
    "7 & 1 & 2 & 6 & 18 \\\\\n",
    "3 & 7 & 1 & 2 & 6 \\\\\n",
    "\\end{pmatrix}\n",
    "\n",
    "Écrire une fonction `HANKEL` qui retourne 1 si une matrice carrée `M` de taille \\( n \\times n \\) est de Hankel, sinon retourne 0.\n"
   ]
  },
  {
   "cell_type": "code",
   "execution_count": 9,
   "metadata": {},
   "outputs": [
    {
     "name": "stdout",
     "output_type": "stream",
     "text": [
      "0\n"
     ]
    }
   ],
   "source": [
    "import numpy as  np\n",
    "def hankel(m,n):\n",
    "    m = np.flip(m, 0)\n",
    "    d = np.diagonal(m)\n",
    "    for i in range(2-n,n-1):\n",
    "      if len(np.unique(np.diag(m,i))) != 1:\n",
    "            return 0\n",
    "    return 1\n",
    "\n",
    "def main():\n",
    "\n",
    "    m = [[0,1,2,3],\n",
    "         [1,2,3,4],\n",
    "         [2,3,4,4],\n",
    "         [3,4,4,0]]\n",
    "    n = 4\n",
    "    print(hankel(m,n))\n",
    "\n",
    "main()   \n",
    "    "
   ]
  },
  {
   "cell_type": "code",
   "execution_count": null,
   "metadata": {},
   "outputs": [],
   "source": []
  }
 ],
 "metadata": {
  "kernelspec": {
   "display_name": "base",
   "language": "python",
   "name": "python3"
  },
  "language_info": {
   "codemirror_mode": {
    "name": "ipython",
    "version": 3
   },
   "file_extension": ".py",
   "mimetype": "text/x-python",
   "name": "python",
   "nbconvert_exporter": "python",
   "pygments_lexer": "ipython3",
   "version": "3.12.7"
  }
 },
 "nbformat": 4,
 "nbformat_minor": 2
}
