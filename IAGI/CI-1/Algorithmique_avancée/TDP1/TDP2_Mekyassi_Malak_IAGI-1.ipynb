{
 "cells": [
  {
   "cell_type": "markdown",
   "metadata": {},
   "source": [
    "\n",
    "# Exercice 3: Tri par Fusion\n",
    "\n",
    "Générer aléatoirement un tableau T de taille n puis le trier via l’algorithme de tri par fusion (vu au cours).\n",
    "\n",
    "Faire le même traitement appliqué au TP 1 (changer la taille du tableau et ploter le temps d’exécution moyen pour en conclure la complexité de l’algorithme).\n"
   ]
  },
  {
   "cell_type": "code",
   "execution_count": null,
   "metadata": {},
   "outputs": [],
   "source": [
    "import random\n",
    "import time\n",
    "import matplotlib.pyplot as plt\n",
    "\n",
    "def merge_sort(arr):\n",
    "    if len(arr) <= 1:\n",
    "        return arr\n",
    "\n",
    "    mid = len(arr) // 2\n",
    "    left = merge_sort(arr[:mid])\n",
    "    right = merge_sort(arr[mid:])\n",
    "\n",
    "    return merge(left, right)\n",
    "\n",
    "def merge(left, right):\n",
    "    result = []\n",
    "    i = j = 0\n",
    "\n",
    "    while i < len(left) and j < len(right):\n",
    "        if left[i] < right[j]:\n",
    "            result.append(left[i])\n",
    "            i += 1\n",
    "        else:\n",
    "            result.append(right[j])\n",
    "            j += 1\n",
    "\n",
    "    result.extend(left[i:])\n",
    "    result.extend(right[j:])\n",
    "    return result\n",
    "\n",
    "def generate_random_array(n):\n",
    "    return [random.randint(0, 1000) for _ in range(n)]\n",
    "\n",
    "def measure_time(n):\n",
    "    arr = generate_random_array(n)\n",
    "    start_time = time.time()\n",
    "    merge_sort(arr)\n",
    "    end_time = time.time()\n",
    "    return end_time - start_time\n",
    "\n",
    "sizes = [100, 200, 500, 1000, 2000, 5000, 10000]\n",
    "times = [measure_time(size) for size in sizes]\n",
    "\n",
    "plt.plot(sizes, times, marker='o')\n",
    "plt.xlabel('Array Size')\n",
    "plt.ylabel('Execution Time (s)')\n",
    "plt.title('Merge Sort Execution Time Complexity')\n",
    "plt.grid(True)\n",
    "plt.show()\n"
   ]
  },
  {
   "cell_type": "markdown",
   "metadata": {},
   "source": [
    "\n",
    "## Exercice 4: Tri par Tas\n",
    "\n",
    "1. Générer aléatoirement un tableau T de taille n\n",
    "2. Transformer T en un tas max\n",
    "3. Trier dans un ordre croissant, le tas résultant dans la phase 2.\n",
    "4. Faire le même travail (phases 1, 2 et 3) en variant le plus possible la taille n et en calculant la complexité de la phase 2 et 3 de chaque valeur de la taille n.\n",
    "5. Refaire les mêmes questions 1, 2, 3 et 4 pour faire un tri dans un ordre croissant dans un tableau en utilisant un tas min. (comparer les temps d’exécutions pour tas max et tas min)\n"
   ]
  },
  {
   "cell_type": "code",
   "execution_count": null,
   "metadata": {},
   "outputs": [],
   "source": [
    "import heapq\n",
    "\n",
    "def heap_sort(arr):\n",
    "    heapq.heapify(arr)\n",
    "    sorted_arr = [heapq.heappop(arr) for _ in range(len(arr))]\n",
    "    return sorted_arr\n",
    "\n",
    "def measure_heap_sort_time(n):\n",
    "    arr = generate_random_array(n)\n",
    "    start_time = time.time()\n",
    "    heap_sort(arr)\n",
    "    end_time = time.time()\n",
    "    return end_time - start_time\n",
    "\n",
    "heap_sizes = [100, 200, 500, 1000, 2000, 5000, 10000]\n",
    "heap_times = [measure_heap_sort_time(size) for size in heap_sizes]\n",
    "\n",
    "plt.plot(heap_sizes, heap_times, marker='o', label='Heap Sort')\n",
    "plt.xlabel('Array Size')\n",
    "plt.ylabel('Execution Time (s)')\n",
    "plt.title('Heap Sort Execution Time Complexity')\n",
    "plt.grid(True)\n",
    "plt.legend()\n",
    "plt.show()"
   ]
  }
 ],
 "metadata": {
  "language_info": {
   "name": "python"
  }
 },
 "nbformat": 4,
 "nbformat_minor": 2
}
